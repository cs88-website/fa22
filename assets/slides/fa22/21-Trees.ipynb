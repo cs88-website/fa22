{
 "cells": [
  {
   "cell_type": "markdown",
   "metadata": {},
   "source": [
    "# Lecture: Trees\n",
    "\n",
    "A tree is a _data structure_ that is like a linked list, but each item can have multiple \"children\" or branches."
   ]
  },
  {
   "cell_type": "code",
   "execution_count": null,
   "metadata": {},
   "outputs": [],
   "source": [
    "class Tree:\n",
    "    def __init__(self, value, *branches):\n",
    "        self.value = value\n",
    "        for branch in branches:\n",
    "            assert isinstance(branch, Tree)\n",
    "        self.branches = list(branches)\n",
    "\n",
    "    def __repr__(self):\n",
    "        # This is merely a more concise representation useful for later.\n",
    "        # others = ' ...' if self.branches else ''\n",
    "        # return 'Tree({0}){1}'.format(self.value, others)\n",
    "        if self.branches:\n",
    "            branches_str = ', ' + repr(self.branches)\n",
    "        else:\n",
    "            branches_str = ''\n",
    "        return 'Tree({0}{1})'.format(self.value, branches_str)\n",
    "\n",
    "    def is_leaf(self):\n",
    "        return not self.branches\n",
    "    \n",
    "    def add_branch(self, tree):\n",
    "        assert isinstance(tree, Tree), \"Each branch of a Tree must be an instance of a Tree\"\n",
    "        self.branches.append(tree)\n"
   ]
  },
  {
   "cell_type": "code",
   "execution_count": null,
   "metadata": {},
   "outputs": [],
   "source": [
    "my_tree = Tree(1)"
   ]
  },
  {
   "cell_type": "code",
   "execution_count": null,
   "metadata": {},
   "outputs": [],
   "source": [
    "my_tree"
   ]
  },
  {
   "cell_type": "code",
   "execution_count": null,
   "metadata": {},
   "outputs": [],
   "source": [
    "lec_tree = Tree(2,\n",
    "    Tree(7, \n",
    "        Tree(2),\n",
    "        Tree(10),\n",
    "        Tree(6,\n",
    "            Tree(5),\n",
    "            Tree(11))),\n",
    "               \n",
    "    Tree(5, Tree(9, Tree(4))))"
   ]
  },
  {
   "cell_type": "code",
   "execution_count": null,
   "metadata": {},
   "outputs": [],
   "source": [
    "lec_tree"
   ]
  },
  {
   "cell_type": "code",
   "execution_count": null,
   "metadata": {},
   "outputs": [],
   "source": [
    "def count_nodes(t):\n",
    "    \"\"\"The number of leaves in tree.\n",
    "\n",
    "    >>> tree1 = Tree(1)\n",
    "    >>> count_nodes(tree1)\n",
    "    1\n",
    "    >>> count_nodes(lec_tree)\n",
    "    10\n",
    "    \"\"\"\n",
    "    if t.is_leaf():\n",
    "        return 1\n",
    "    else:\n",
    "        return 1 ### Let's fill this in.\n",
    "    "
   ]
  },
  {
   "cell_type": "code",
   "execution_count": null,
   "metadata": {},
   "outputs": [],
   "source": [
    "count_nodes(lec_tree)"
   ]
  },
  {
   "cell_type": "markdown",
   "metadata": {},
   "source": [
    "# Traversing A Tree"
   ]
  },
  {
   "cell_type": "code",
   "execution_count": null,
   "metadata": {},
   "outputs": [],
   "source": [
    "def traverse_recursive(t):\n",
    "    print('Saw: ' + t.value)\n",
    "    for b in t.branches:\n",
    "        traverse_recursive(b)"
   ]
  },
  {
   "cell_type": "code",
   "execution_count": null,
   "metadata": {},
   "outputs": [],
   "source": []
  },
  {
   "cell_type": "code",
   "execution_count": 15,
   "metadata": {},
   "outputs": [],
   "source": [
    "# SOLUTION\n",
    "\n",
    "def count_nodes(t):\n",
    "    \"\"\"The number of leaves in tree.\n",
    "\n",
    "    >>> count_nodes(fib_tree(5))\n",
    "    8\n",
    "    \"\"\"\n",
    "    if t.is_leaf():\n",
    "        return 1\n",
    "    else:\n",
    "        return 1 + sum(map(count_nodes, t.branches))\n",
    "#         return 1 + sum([count_nodes(b) for b in t.branches])"
   ]
  },
  {
   "cell_type": "code",
   "execution_count": 18,
   "metadata": {},
   "outputs": [
    {
     "data": {
      "text/plain": [
       "2"
      ]
     },
     "execution_count": 18,
     "metadata": {},
     "output_type": "execute_result"
    }
   ],
   "source": [
    "count_nodes(lec_tree)\n",
    "count_nodes(my_tree)\n",
    "count_nodes(Tree(1, Tree(2)))"
   ]
  },
  {
   "cell_type": "code",
   "execution_count": null,
   "metadata": {},
   "outputs": [],
   "source": [
    "def print_tree(t, indent=0):\n",
    "    \"\"\"Print a representation of this tree in which each label is\n",
    "    indented by two spaces times its depth from the root.\n",
    "\n",
    "    >>> print_tree(tree(1))\n",
    "    1\n",
    "    >>> print_tree(tree(1, [tree(2)]))\n",
    "    1\n",
    "      2\n",
    "    >>> print_tree(fib_tree(4))\n",
    "    3\n",
    "      1\n",
    "        0\n",
    "        1\n",
    "      2\n",
    "        1\n",
    "        1\n",
    "          0\n",
    "          1\n",
    "    \"\"\"\n",
    "    pass"
   ]
  },
  {
   "cell_type": "code",
   "execution_count": null,
   "metadata": {},
   "outputs": [],
   "source": [
    "print_tree(my_tree)"
   ]
  },
  {
   "cell_type": "code",
   "execution_count": null,
   "metadata": {},
   "outputs": [],
   "source": []
  },
  {
   "cell_type": "code",
   "execution_count": null,
   "metadata": {},
   "outputs": [],
   "source": [
    "    print('  ' * indent + str(t.value))\n",
    "    for b in t.branches:\n",
    "        print_tree(b, indent + 1)"
   ]
  },
  {
   "cell_type": "code",
   "execution_count": null,
   "metadata": {},
   "outputs": [],
   "source": []
  },
  {
   "cell_type": "code",
   "execution_count": null,
   "metadata": {},
   "outputs": [],
   "source": [
    "count_nodes(my_tree)"
   ]
  },
  {
   "cell_type": "code",
   "execution_count": null,
   "metadata": {},
   "outputs": [],
   "source": [
    "count_nodes(fib_tree(5))"
   ]
  },
  {
   "cell_type": "code",
   "execution_count": null,
   "metadata": {},
   "outputs": [],
   "source": [
    "def leaves(tree):\n",
    "    \"\"\"Return a list containing the leaf labels of tree.\n",
    "\n",
    "    >>> leaves(fib_tree(5))\n",
    "    [1, 0, 1, 0, 1, 1, 0, 1]\n",
    "    \"\"\"\n",
    "    if tree.is_leaf():\n",
    "        return [ tree.value ]\n",
    "    else:\n",
    "        # Sum with a \"start=[]\"\n",
    "        # [1] + [2] + [3]...\n",
    "        return sum([leaves(b) for b in tree.branches], [])"
   ]
  },
  {
   "cell_type": "code",
   "execution_count": null,
   "metadata": {},
   "outputs": [],
   "source": [
    "def fib_tree(n):\n",
    "    if n == 0 or n == 1:\n",
    "        return Tree(n)\n",
    "    else:\n",
    "        left, right = fib_tree(n-2), fib_tree(n-1)\n",
    "        fib_n = left.value + right.value\n",
    "        return Tree(fib_n, [left, right])"
   ]
  },
  {
   "cell_type": "code",
   "execution_count": null,
   "metadata": {},
   "outputs": [],
   "source": [
    "fib_tree(5)"
   ]
  },
  {
   "cell_type": "code",
   "execution_count": null,
   "metadata": {},
   "outputs": [],
   "source": [
    "leaves(fib_tree(5))"
   ]
  },
  {
   "cell_type": "code",
   "execution_count": null,
   "metadata": {},
   "outputs": [],
   "source": [
    "print_tree(fib_tree(5))"
   ]
  },
  {
   "cell_type": "code",
   "execution_count": null,
   "metadata": {},
   "outputs": [],
   "source": [
    "fib_tree(4)"
   ]
  },
  {
   "cell_type": "code",
   "execution_count": null,
   "metadata": {},
   "outputs": [],
   "source": [
    "sum(leaves(fib_tree(4)))"
   ]
  },
  {
   "cell_type": "markdown",
   "metadata": {},
   "source": [
    "# Searching Trees\n"
   ]
  },
  {
   "cell_type": "code",
   "execution_count": null,
   "metadata": {},
   "outputs": [],
   "source": [
    "big_tree = Tree(\n",
    "    '1A', [\n",
    "    Tree('2A', [\n",
    "        Tree('3A', [\n",
    "            Tree('4A', [\n",
    "                Tree('5A')\n",
    "            ])]),\n",
    "        Tree('3B', [\n",
    "            Tree('4B'), \n",
    "            Tree('4C', [\n",
    "                Tree('5B', [\n",
    "                    Tree('6A')\n",
    "                ])\n",
    "            ]),\n",
    "            Tree('4D'),\n",
    "            Tree('4E')\n",
    "        ])\n",
    "    ]),\n",
    "    Tree('2B',[\n",
    "        Tree('3C', [\n",
    "            Tree('4F')\n",
    "        ])\n",
    "    ])\n",
    "])"
   ]
  },
  {
   "cell_type": "code",
   "execution_count": null,
   "metadata": {},
   "outputs": [],
   "source": [
    "print_tree(big_tree)"
   ]
  },
  {
   "cell_type": "code",
   "execution_count": null,
   "metadata": {},
   "outputs": [],
   "source": [
    "def traverse_recursive(t):\n",
    "    print('Saw: ' + t.value)\n",
    "    for b in t.branches:\n",
    "        traverse_recursive(b)"
   ]
  },
  {
   "cell_type": "code",
   "execution_count": null,
   "metadata": {},
   "outputs": [],
   "source": [
    "traverse_recursive(big_tree)"
   ]
  },
  {
   "cell_type": "markdown",
   "metadata": {},
   "source": [
    "Notice that, like out printed view, we got down one whole path before going back up.\n",
    "\n",
    "\n",
    "This is called depth first search.\n",
    "\n",
    "But, what if we want to go acroos each \"level\" first, such that I see all the 2's, then all the 3's and so on..."
   ]
  },
  {
   "cell_type": "markdown",
   "metadata": {},
   "source": [
    "## Extra: Breadth First Search.\n",
    "\n",
    "Use the commented print statements to inspect our `to_visit` list.\n",
    "This is called a _queue_. The first items we put in (via `.append`) are the first ones \"out\", that we access by using `.pop(0)`. We call this \"First In, First Out\".\n",
    "\n",
    "But really, it's just a list. It's all about using it in a particular way."
   ]
  },
  {
   "cell_type": "code",
   "execution_count": null,
   "metadata": {},
   "outputs": [],
   "source": [
    "def traverse_across(t):\n",
    "    to_visit = []\n",
    "    to_visit.append(t)\n",
    "    while len(to_visit) > 0:\n",
    "        node = to_visit.pop(0)\n",
    "        print('Visit: ' + node.value)\n",
    "        for branch in node.branches:\n",
    "            to_visit.append(branch)\n",
    "        print(to_visit)"
   ]
  },
  {
   "cell_type": "code",
   "execution_count": null,
   "metadata": {},
   "outputs": [],
   "source": [
    "traverse_across(big_tree)"
   ]
  },
  {
   "cell_type": "code",
   "execution_count": null,
   "metadata": {},
   "outputs": [],
   "source": [
    "my_list = [1, 2, 3]\n",
    "item = my_list.pop(0)"
   ]
  },
  {
   "cell_type": "code",
   "execution_count": null,
   "metadata": {},
   "outputs": [],
   "source": [
    "print(item)"
   ]
  },
  {
   "cell_type": "code",
   "execution_count": null,
   "metadata": {},
   "outputs": [],
   "source": [
    "print(my_list)"
   ]
  },
  {
   "cell_type": "markdown",
   "metadata": {},
   "source": [
    "# Extra: Binary Search Trees\n",
    "\n",
    "A tree where each sub tree has 2 children, a left and a right."
   ]
  },
  {
   "cell_type": "code",
   "execution_count": null,
   "metadata": {},
   "outputs": [],
   "source": [
    "ordered_tree = Tree(8, [Tree(3,\n",
    "                             [Tree(1),\n",
    "                              Tree(6, [Tree(4), Tree(7)])]\n",
    "                            ),\n",
    "                       Tree(10, [\n",
    "                           Tree(None),\n",
    "                           Tree(14, [Tree(13), Tree(None)])])\n",
    "                       ]\n",
    "                   )"
   ]
  },
  {
   "cell_type": "code",
   "execution_count": null,
   "metadata": {},
   "outputs": [],
   "source": [
    "print_tree(ordered_tree)"
   ]
  },
  {
   "cell_type": "code",
   "execution_count": null,
   "metadata": {},
   "outputs": [],
   "source": [
    "def bst(tree, value):\n",
    "    if tree.value == value:\n",
    "        return value\n",
    "    elif tree.is_leaf():\n",
    "        return 'NOT FOUND'\n",
    "    left = tree.branches[0]\n",
    "    right = tree.branches[1]\n",
    "    if left.value and value < tree.value:\n",
    "        return bst(left, value)\n",
    "    elif right.value:\n",
    "        return bst(right, value)\n",
    "    return 'NOT FOUND'"
   ]
  },
  {
   "cell_type": "code",
   "execution_count": null,
   "metadata": {},
   "outputs": [],
   "source": [
    "for i in range(18):\n",
    "    print(str(i) + ' ' + str(bst(ordered_tree, i)))"
   ]
  },
  {
   "cell_type": "code",
   "execution_count": null,
   "metadata": {},
   "outputs": [],
   "source": []
  }
 ],
 "metadata": {
  "kernelspec": {
   "display_name": "Python 3 (ipykernel)",
   "language": "python",
   "name": "python3"
  },
  "language_info": {
   "codemirror_mode": {
    "name": "ipython",
    "version": 3
   },
   "file_extension": ".py",
   "mimetype": "text/x-python",
   "name": "python",
   "nbconvert_exporter": "python",
   "pygments_lexer": "ipython3",
   "version": "3.9.12"
  }
 },
 "nbformat": 4,
 "nbformat_minor": 4
}
